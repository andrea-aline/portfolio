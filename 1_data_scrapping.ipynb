{
  "nbformat": 4,
  "nbformat_minor": 0,
  "metadata": {
    "colab": {
      "provenance": [],
      "authorship_tag": "ABX9TyN5jdHOrq2OHCrtmzDLHI9G",
      "include_colab_link": true
    },
    "kernelspec": {
      "name": "python3",
      "display_name": "Python 3"
    },
    "language_info": {
      "name": "python"
    }
  },
  "cells": [
    {
      "cell_type": "markdown",
      "metadata": {
        "id": "view-in-github",
        "colab_type": "text"
      },
      "source": [
        "<a href=\"https://colab.research.google.com/github/andrea-aline/portfolio/blob/main/1_data_scrapping.ipynb\" target=\"_parent\"><img src=\"https://colab.research.google.com/assets/colab-badge.svg\" alt=\"Open In Colab\"/></a>"
      ]
    },
    {
      "cell_type": "markdown",
      "source": [
        "- Base de dados suja\n",
        "- API"
      ],
      "metadata": {
        "id": "s4SF5E2CaNmN"
      }
    },
    {
      "cell_type": "markdown",
      "source": [
        "Idea 1: Scrap from LinkedIn\n",
        "\n",
        "[Reference 1](https://blog.devgenius.io/how-to-build-a-scraping-tool-for-linkedin-in-7-minutes-tool-data-science-csv-selenium-beautifulsoup-python-a673f12ac579)\n",
        "\n",
        "[Reference 2](https://www.linkedin.com/pulse/capturando-dados-do-linkedin-usando-scrapy-hyan-dias/?originalSubdomain=pt)\n",
        "\n",
        "[Reference 3](https://colab.research.google.com/github/mikhailklassen/Mining-the-Social-Web-3rd-Edition/blob/master/notebooks/Chapter%204%20-%20Mining%20LinkedIn.ipynb)"
      ],
      "metadata": {
        "id": "JOUY-bWsaWge"
      }
    },
    {
      "cell_type": "code",
      "source": [],
      "metadata": {
        "id": "31rAKCmlchiu"
      },
      "execution_count": null,
      "outputs": []
    }
  ]
}