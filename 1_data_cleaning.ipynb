{
  "nbformat": 4,
  "nbformat_minor": 0,
  "metadata": {
    "colab": {
      "provenance": [],
      "authorship_tag": "ABX9TyMtCX4mAua6MR743VfuxAQf",
      "include_colab_link": true
    },
    "kernelspec": {
      "name": "python3",
      "display_name": "Python 3"
    },
    "language_info": {
      "name": "python"
    }
  },
  "cells": [
    {
      "cell_type": "markdown",
      "metadata": {
        "id": "view-in-github",
        "colab_type": "text"
      },
      "source": [
        "<a href=\"https://colab.research.google.com/github/andrea-aline/portfolio/blob/main/1_data_cleaning.ipynb\" target=\"_parent\"><img src=\"https://colab.research.google.com/assets/colab-badge.svg\" alt=\"Open In Colab\"/></a>"
      ]
    },
    {
      "cell_type": "markdown",
      "source": [
        "- Base de dados suja\n",
        "- API"
      ],
      "metadata": {
        "id": "s4SF5E2CaNmN"
      }
    },
    {
      "cell_type": "code",
      "source": [],
      "metadata": {
        "id": "JOUY-bWsaWge"
      },
      "execution_count": null,
      "outputs": []
    }
  ]
}